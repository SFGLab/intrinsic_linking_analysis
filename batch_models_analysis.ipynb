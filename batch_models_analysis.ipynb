{
 "cells": [
  {
   "cell_type": "code",
   "execution_count": 45,
   "metadata": {
    "pycharm": {
     "name": "#%%\n"
    }
   },
   "outputs": [],
   "source": [
    "import os\n",
    "import pickle\n",
    "import itertools\n",
    "from concurrent.futures import ProcessPoolExecutor, as_completed\n",
    "from tqdm import tqdm\n",
    "import numpy as np\n",
    "import pandas as pd\n",
    "import igraph as ig\n",
    "import networkx as nx\n",
    "\n",
    "import matplotlib\n",
    "import matplotlib.pyplot as plt\n",
    "import seaborn as sns\n",
    "\n",
    "from knots_tools import HumanChromosomeDtype, DatasetDtype, get_loop_pair_infos\n",
    "import datasources\n",
    "import modvis"
   ]
  },
  {
   "cell_type": "markdown",
   "metadata": {},
   "source": [
    "# Lookup CCD stats"
   ]
  },
  {
   "cell_type": "code",
   "execution_count": null,
   "metadata": {},
   "outputs": [],
   "source": [
    "ccds = pd.read_csv('data/all_ccds.csv', dtype={'chromosome': HumanChromosomeDtype, 'dataset': DatasetDtype})\n",
    "ccds = ccds.set_index(['dataset', 'chromosome', 'ccd_id'])\n",
    "ccds"
   ]
  },
  {
   "cell_type": "code",
   "execution_count": null,
   "metadata": {},
   "outputs": [],
   "source": [
    "_cols = ['n_edges', 'n_nodes', 'length']\n",
    "ccds.loc['GM12878', 'chr7', 100][_cols]"
   ]
  },
  {
   "cell_type": "code",
   "execution_count": null,
   "metadata": {},
   "outputs": [],
   "source": [
    "ccds.loc['GM12878', 'chr7'][_cols].sort_values(by=_cols).query('n_edges > 300 & n_edges < 400')"
   ]
  },
  {
   "cell_type": "markdown",
   "metadata": {},
   "source": [
    "# Monte Carlo modeling"
   ]
  },
  {
   "cell_type": "code",
   "execution_count": null,
   "metadata": {},
   "outputs": [],
   "source": [
    "def read_batch_model_from_pickle(file):\n",
    "    with open(file, 'rb') as f:\n",
    "        pkl = pickle.load(f)\n",
    "    args, result, exc, n_restarts = pkl\n",
    "    i_rep, to_keep, restraint_set, path = args\n",
    "    if exc is not None:\n",
    "        bead_coords, used_restraints, raw_coords, init_str_points = None, None, None, None\n",
    "    else:\n",
    "        bead_coords, used_restraints, raw_coords, init_str_points = result\n",
    "    return pd.Series({\n",
    "        'used_restraints': used_restraints,\n",
    "        'raw_coords': raw_coords,\n",
    "        'kept_idx': to_keep,\n",
    "        'exc': exc\n",
    "    })\n",
    "\n",
    "batch_models = datasources.DataSources(\n",
    "    './batch', ['dataset', 'chromosome', 'ccd_id', 'group', 'n_restraints', 'run_idx']\n",
    ").add(\n",
    "    'model_file',\n",
    "    'ccd_graph_(?P<dataset>\\\\w+)_(?P<chromosome>\\\\w+)_(?P<ccd_id>\\\\d+)_(?P<group>\\\\w+)_k(?P<n_restraints>\\\\d+)_(?P<run_idx>\\\\d+)\\\\.pkl$',\n",
    "    parsers={'ccd_id': int, 'n_restraints': int, 'run_idx': int}\n",
    ").get_paths_as_dataframe().reset_index()\n",
    "batch_models['chromosome'] = batch_models['chromosome'].astype(HumanChromosomeDtype)\n",
    "batch_models['dataset'] = batch_models['dataset'].astype(DatasetDtype)\n",
    "batch_models  = pd.concat([\n",
    "    batch_models, batch_models['model_file'].apply(read_batch_model_from_pickle)\n",
    "], axis=1)\n",
    "batch_models['has_exc'] = ~batch_models['exc'].isnull()\n",
    "batch_models.info()\n",
    "batch_models.head()"
   ]
  },
  {
   "cell_type": "code",
   "execution_count": null,
   "metadata": {},
   "outputs": [],
   "source": [
    "error_counts = batch_models.groupby(['dataset', 'chromosome', 'ccd_id', 'run_idx'], observed=True).has_exc.sum()\n",
    "error_counts"
   ]
  },
  {
   "cell_type": "code",
   "execution_count": null,
   "metadata": {},
   "outputs": [],
   "source": [
    "errored_runs = error_counts[np.where(error_counts > 0)[0]].reset_index()\n",
    "errored_runs"
   ]
  },
  {
   "cell_type": "code",
   "execution_count": null,
   "metadata": {},
   "outputs": [],
   "source": [
    "ok_models = batch_models[(batch_models.n_restraints >= 2) & ~batch_models.run_idx.isin(errored_runs.run_idx)]\n",
    "ok_models = ok_models.drop(columns=['exc', 'model_file'])\n",
    "ok_models\n",
    "\n",
    "def _summarize_linking(idx):    \n",
    "    s = ok_models.loc[idx]\n",
    "    assert isinstance(s, pd.Series)\n",
    "    infos = get_loop_pair_infos(s['raw_coords'], s['used_restraints'])    \n",
    "    return {\n",
    "        'idx': idx,\n",
    "        'n_loop_pairs': len(infos),\n",
    "        'n_disjoint_pairs': (infos['overlap'] == 0).sum(),\n",
    "        'max_abs_linking': infos['abs_linking_number'].max(),\n",
    "        'sum_abs_linking': infos['abs_linking_number'].sum(),\n",
    "        'n_linked_pairs': (infos['abs_linking_number'] > 0).sum(),        \n",
    "        'n_linked_disjoint_pairs': ((infos['abs_linking_number'] > 0) & (infos['overlap'] == 0)).sum()\n",
    "    }\n",
    "\n",
    "def calculate_linking_in_batch_data(n_workers=None):\n",
    "    with ProcessPoolExecutor(max_workers=n_workers) as executor:\n",
    "        futures = [\n",
    "            executor.submit(_summarize_linking, idx)\n",
    "            for idx in ok_models.index\n",
    "        ]\n",
    "        res = {}\n",
    "        for r in tqdm(as_completed(futures), total=len(futures)):\n",
    "            data = r.result()\n",
    "            res[data['idx']] = data\n",
    "\n",
    "    df = pd.DataFrame.from_dict(res, orient='index')\n",
    "    return df.set_index('idx').sort_index()\n",
    "\n",
    "\n",
    "ok_models = pd.concat([ok_models, calculate_linking_in_batch_data()], axis=1)\n",
    "ok_models['is_linked'] = ok_models['max_abs_linking'] > 0\n",
    "ok_models.info()\n",
    "ok_models.head()"
   ]
  },
  {
   "cell_type": "code",
   "execution_count": null,
   "metadata": {},
   "outputs": [],
   "source": [
    "hue_order=['nolink', 'control', 'minor']\n",
    "_pal = sns.color_palette('tab10', 3)\n",
    "palette = [_pal[i] for i in [2, 0, 1]]\n",
    "\n",
    "sns.countplot(\n",
    "    data=ok_models[ok_models.is_linked], x='n_restraints', hue='group',\n",
    "    hue_order=hue_order, palette=palette\n",
    ");"
   ]
  },
  {
   "cell_type": "code",
   "execution_count": null,
   "metadata": {},
   "outputs": [],
   "source": [
    "ok_models.groupby(['n_restraints', 'group']).is_linked.value_counts().unstack(fill_value=0)"
   ]
  },
  {
   "cell_type": "code",
   "execution_count": null,
   "metadata": {},
   "outputs": [],
   "source": [
    "sns.boxplot(data=ok_models, x='n_restraints', y='n_linked_pairs', hue='group', hue_order=hue_order, palette=palette);"
   ]
  },
  {
   "cell_type": "code",
   "execution_count": null,
   "metadata": {},
   "outputs": [],
   "source": [
    "sns.boxplot(data=ok_models, x='n_restraints', y='sum_abs_linking', hue='group', hue_order=hue_order, palette=palette);"
   ]
  },
  {
   "cell_type": "code",
   "execution_count": null,
   "metadata": {},
   "outputs": [],
   "source": [
    "sns.boxplot(data=ok_models, x='n_restraints', y='max_abs_linking', hue='group', hue_order=hue_order, palette=palette);"
   ]
  }
 ],
 "metadata": {
  "kernelspec": {
   "display_name": "sci1",
   "language": "python",
   "name": "python3"
  },
  "language_info": {
   "codemirror_mode": {
    "name": "ipython",
    "version": 3
   },
   "file_extension": ".py",
   "mimetype": "text/x-python",
   "name": "python",
   "nbconvert_exporter": "python",
   "pygments_lexer": "ipython3",
   "version": "3.10.14"
  }
 },
 "nbformat": 4,
 "nbformat_minor": 4
}
