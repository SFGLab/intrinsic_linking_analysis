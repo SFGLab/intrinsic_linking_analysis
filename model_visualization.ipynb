{
 "cells": [
  {
   "cell_type": "markdown",
   "metadata": {},
   "source": [
    "# Visualization of a region as a graph and a 3D model"
   ]
  },
  {
   "cell_type": "code",
   "execution_count": 17,
   "metadata": {
    "pycharm": {
     "name": "#%%\n"
    }
   },
   "outputs": [],
   "source": [
    "import os\n",
    "import pickle\n",
    "import itertools\n",
    "from concurrent.futures import ProcessPoolExecutor, as_completed\n",
    "from tqdm import tqdm\n",
    "import numpy as np\n",
    "import pandas as pd\n",
    "import igraph as ig\n",
    "import networkx as nx\n",
    "\n",
    "import matplotlib\n",
    "import matplotlib.pyplot as plt\n",
    "import seaborn as sns\n",
    "\n",
    "from knots_tools import get_loop_pair_infos\n",
    "import modvis"
   ]
  },
  {
   "cell_type": "code",
   "execution_count": 18,
   "metadata": {},
   "outputs": [],
   "source": [
    "import pyvista as pv\n",
    "pv.jupyter_extension_enabled = True\n",
    "pv.set_jupyter_backend('trame')"
   ]
  },
  {
   "cell_type": "markdown",
   "metadata": {},
   "source": [
    "## A synthetic structure for a simple schematics"
   ]
  },
  {
   "cell_type": "code",
   "execution_count": null,
   "metadata": {},
   "outputs": [],
   "source": [
    "minor_palette = modvis.model_colors_palette(\"light:#1953c8\", pad_l=3)\n",
    "link_palette = [minor_palette[0], '#bd2828', '#2abb30', minor_palette[0]]\n",
    "sns.palplot(minor_palette);\n",
    "sns.palplot(link_palette)"
   ]
  },
  {
   "cell_type": "code",
   "execution_count": null,
   "metadata": {},
   "outputs": [],
   "source": [
    "G = nx.MultiDiGraph()\n",
    "for u, g in enumerate(\n",
    "    [0, 1, 1, 1, 2, 2, 3, 3, 3, 4, 4, 5, 5, 5, 5, 6, 6, 0]\n",
    "):\n",
    "    G.add_node(u, segment=g, coord=u * 100_000 + 100_000_000)\n",
    "n = G.number_of_nodes()\n",
    "for u, v in zip(range(n - 1), range(1, n)):\n",
    "    G.add_edge(u, v, is_contact=False, is_strand=True, end_segments=None)\n",
    "# [1, 2, 3], [4, 5], [6, 7, 8], [9, 10], [11, 12, 13, 14], [15, 16]\n",
    "for u, v in [\n",
    "    (2, 7), (2, 9), (1, 11), (1, 16),  # 1\n",
    "    (4, 10), (5, 11), (4, 16),  # 2\n",
    "    (8, 11), (7, 15), # 3\n",
    "    (12, 16),  # 4\n",
    "]:\n",
    "    G.add_edge(u, v, is_contact=True, is_strand=False, end_segments=(0, 0))\n",
    "for u, v in [\n",
    "    (0, 2), (0, 12), (1, 2), (3, 14), (7, 12), (13, 17)\n",
    "]:\n",
    "    G.add_edge(u, v, is_contact=True, is_strand=False, end_segments=None)\n",
    "\n",
    "plt.figure(figsize=(7.5, 3), dpi=300)\n",
    "modvis.plot_graph_with_minor(\n",
    "    G, highlighted_loops={\n",
    "        3: matplotlib.colors.to_hex(link_palette[1]),\n",
    "        9: matplotlib.colors.to_hex(link_palette[2])\n",
    "    },\n",
    "    segments_palette=minor_palette,\n",
    "    node_size=100,\n",
    "    arc_alpha=0.5, arc_linewidth=2.0,\n",
    "    selected_arc_alpha=1, selected_arc_linewidth=2.0,\n",
    "    strand_linewidth=3.0,\n",
    "    draw_strands=True,\n",
    "    tick_y_coords=(-0.002, -0.004, -0.007),\n",
    "    tick_linewidth=2.0\n",
    ")\n",
    "plt.tight_layout()\n",
    "# plt.show()\n",
    "# plt.savefig('./plots/graph_schema.svg')"
   ]
  },
  {
   "cell_type": "code",
   "execution_count": null,
   "metadata": {},
   "outputs": [],
   "source": [
    "plt.figure(figsize=(2, 2), dpi=300)\n",
    "\n",
    "G = nx.complete_graph(6)\n",
    "\n",
    "edge_styles = {\n",
    "    (0, 5): {'style': 'dashed'},     # connection between 1 and 6 (dashed line)\n",
    "    (0, 3): {'edge_color': 'red', 'width': 2}, # connection between 2 and 4 (green line)\n",
    "    (4, 5): {'edge_color': 'green', 'width': 2},   # connection between 5 and 6 (red line)\n",
    "}\n",
    "\n",
    "def hexagonal_layout(n, theta=0, clockwise=True):\n",
    "    angles = np.linspace(0, 2 * np.pi, n, endpoint=False)\n",
    "    if clockwise:\n",
    "        angles = -angles\n",
    "    angles += theta # Rotate the hexagon\n",
    "    return {i: np.array([np.cos(angle), np.sin(angle)]) for i, angle in enumerate(angles)}\n",
    "\n",
    "pos = hexagonal_layout(6, theta=4 * np.pi / 3)\n",
    "nx.draw_networkx_nodes(G, pos, node_color='white', edgecolors=minor_palette[1:], linewidths=1, node_size=300)\n",
    "nx.draw_networkx_labels(G, pos, labels={i: str(i+1) for i in range(6)}, font_size=8, font_color='black')\n",
    "nx.draw_networkx_edges(G, pos, [e for e in G.edges() if e not in edge_styles], edge_color='black')\n",
    "\n",
    "\n",
    "for (u, v), style in edge_styles.items():\n",
    "    nx.draw_networkx_edges(G, pos, edgelist=[(u, v)], **style)\n",
    "\n",
    "plt.tight_layout()\n",
    "plt.margins(0.1)\n",
    "plt.axis('off')\n",
    "plt.axis('equal')\n",
    "plt.savefig('./plots/K6.svg')\n",
    "plt.show()"
   ]
  },
  {
   "cell_type": "markdown",
   "metadata": {},
   "source": [
    "## Select a CCD of interest"
   ]
  },
  {
   "cell_type": "code",
   "execution_count": 6,
   "metadata": {},
   "outputs": [],
   "source": [
    "example_dataset = 'GM12878'\n",
    "example_chromosome = 'chr7'\n",
    "example_ccd_id = 100"
   ]
  },
  {
   "cell_type": "code",
   "execution_count": null,
   "metadata": {},
   "outputs": [],
   "source": [
    "DATA_DIR = './data'\n",
    "GRAPHS_DIR = os.path.join(DATA_DIR, 'graphs')\n",
    "MODELS_DIR = './models'\n",
    "\n",
    "model_name = f'{example_dataset}_{example_chromosome}_{example_ccd_id:04d}'\n",
    "model_working_dir = os.path.join(MODELS_DIR, model_name)\n",
    "# load the prepared examples insted:\n",
    "model_working_dir = os.path.join(MODELS_DIR, 'GM12878_chr7_0100_bigloop_0_9')\n",
    "# model_working_dir = os.path.join(MODELS_DIR, 'GM12878_chr7_0100_small_3_8')\n",
    "# model_working_dir = os.path.join(MODELS_DIR, 'GM12878_chr7_0100_twisted_5_9')\n",
    "model_file = os.path.join(model_working_dir, f'{model_name}.pkl')\n",
    "print(model_working_dir)"
   ]
  },
  {
   "cell_type": "code",
   "execution_count": 8,
   "metadata": {},
   "outputs": [],
   "source": [
    "def load_graph(path):\n",
    "    with open(os.path.join(GRAPHS_DIR, path), 'rb') as f:\n",
    "        graph = pickle.load(f)\n",
    "    return graph\n",
    "\n",
    "example_graph = load_graph(f'ccd_graph_{example_dataset}_{example_chromosome}_{example_ccd_id:04d}.pkl')\n",
    "drawable_graph, example_minor = modvis.make_drawable_graph(example_graph)"
   ]
  },
  {
   "cell_type": "code",
   "execution_count": null,
   "metadata": {},
   "outputs": [],
   "source": [
    "if os.path.exists(model_file):\n",
    "    coords, restraints, bead_groups = modvis.load_model(model_file)\n",
    "    print(f'Loaded model from {model_file}')\n",
    "    CREATE_MODEL = False\n",
    "else:\n",
    "    print(f'Model not loaded, path \"{model_file}\" does not exist.')\n",
    "    CREATE_MODEL = True"
   ]
  },
  {
   "cell_type": "markdown",
   "metadata": {},
   "source": [
    "## ...Or create a new model here"
   ]
  },
  {
   "cell_type": "code",
   "execution_count": null,
   "metadata": {},
   "outputs": [],
   "source": [
    "# Then run modeling\n",
    "def run_modeling_on_graph(graph, model_working_dir=None, bead_spacing_bp=500, padding_bp=0, overwrite=False):    \n",
    "    bead_coords, restraints, bead_groups = modvis.beads_and_restraints_from_graph(\n",
    "        graph, bead_spacing_bp=bead_spacing_bp, padding_bp=padding_bp\n",
    "    )\n",
    "    spring_model_runner = modvis.SpringModelAPI(\n",
    "        config_file_path='./spring_model_config.ini',\n",
    "        modeling_command='./run_sm_docker_CPU.sh',\n",
    "        model_working_dir=model_working_dir\n",
    "    )\n",
    "    return spring_model_runner.run_modeling(bead_coords, restraints, bead_groups, overwrite=overwrite) + (restraints, bead_groups)\n",
    "\n",
    "# CREATE_MODEL = True\n",
    "if CREATE_MODEL:\n",
    "    try:\n",
    "        coords, init_str_points, restraints, bead_groups = run_modeling_on_graph(\n",
    "            drawable_graph, bead_spacing_bp=500, padding_bp=20_000,\n",
    "            model_working_dir=model_working_dir,  # Set this to None to use temporary dir for models files (faster, but no saved models)\n",
    "            overwrite=True  # Change this to True to force the model to be re-run\n",
    "        )\n",
    "        print(f'Created model, saving in {model_working_dir}...')\n",
    "        modvis.save_model(model_file, coords, restraints, bead_groups)\n",
    "    except FileExistsError as e:\n",
    "        print(f'Model already exists in {model_working_dir}:', e)\n",
    "else:\n",
    "    print('Model already exists, skipping modeling step')"
   ]
  },
  {
   "cell_type": "markdown",
   "metadata": {},
   "source": [
    "## Gaussian linking integeral\n",
    "\n",
    "Find a \"nice\" link to visualize: preferably low linking number and not internally overlapping"
   ]
  },
  {
   "cell_type": "code",
   "execution_count": null,
   "metadata": {},
   "outputs": [],
   "source": [
    "infos = get_loop_pair_infos(coords, restraints)\n",
    "infos.query('abs_linking_number > 0').head(10)"
   ]
  },
  {
   "cell_type": "markdown",
   "metadata": {},
   "source": [
    "## Select a loop pair for visualization"
   ]
  },
  {
   "cell_type": "code",
   "execution_count": 12,
   "metadata": {},
   "outputs": [],
   "source": [
    "example_loop_pair = (0, 9)"
   ]
  },
  {
   "cell_type": "markdown",
   "metadata": {},
   "source": [
    "## Visualize the model in 3D"
   ]
  },
  {
   "cell_type": "code",
   "execution_count": null,
   "metadata": {},
   "outputs": [],
   "source": [
    "def groups_loop_pair(restraints, total_beads, loop_A, loop_B):\n",
    "    g = [\n",
    "        (restraints[loop_A, 0], restraints[loop_A, 1], 1),\n",
    "        (restraints[loop_B, 0], restraints[loop_B, 1], 2)\n",
    "    ]\n",
    "    if g[0][0] > 0:\n",
    "        g = [(0, g[0][0] - 1, 0)] + g\n",
    "    if g[-1][1] < total_beads - 1:\n",
    "        g = g + [(g[-1][1] + 1, total_beads - 1, 0)]\n",
    "    return g\n",
    "\n",
    "norm_coords = modvis.scale_coords(coords)\n",
    "plotter = pv.Plotter(shape=(1, 2))\n",
    "_strand_radius = 0.015\n",
    "_interaction_radius = 0.015\n",
    "_interaction_color = 'orange'\n",
    "plotter.subplot(0, 0)\n",
    "modvis.plot_model(\n",
    "    norm_coords, restraints, bead_groups=bead_groups,\n",
    "    strand_radius=_strand_radius, interaction_radius=_interaction_radius,\n",
    "    interaction_color=_interaction_color,\n",
    "    palette=minor_palette,\n",
    "    plotter=plotter\n",
    ")\n",
    "plotter.subplot(0, 1)\n",
    "modvis.plot_model(\n",
    "    norm_coords, restraints,\n",
    "    bead_groups=groups_loop_pair(restraints, len(norm_coords), *example_loop_pair),\n",
    "    interaction_color=_interaction_color,\n",
    "    selected_groups=[1, 2], nonselected_opacity=0.1,\n",
    "    strand_radius=_strand_radius, interaction_radius=_interaction_radius,\n",
    "    restraints_only_within_groups=True,\n",
    "    continous=False,\n",
    "    palette=link_palette,\n",
    "    plotter=plotter\n",
    ")\n",
    "plotter.link_views()\n",
    "plotter.show()"
   ]
  },
  {
   "cell_type": "markdown",
   "metadata": {},
   "source": [
    "## Visualize structure as a graph\n",
    "\n",
    "With a given minor colored and edes selected"
   ]
  },
  {
   "cell_type": "code",
   "execution_count": 14,
   "metadata": {},
   "outputs": [],
   "source": [
    "drawable_graph, example_minor = modvis.make_drawable_graph(example_graph)"
   ]
  },
  {
   "cell_type": "code",
   "execution_count": null,
   "metadata": {},
   "outputs": [],
   "source": [
    "plt.figure(figsize=(6, 3), dpi=300)\n",
    "modvis.plot_graph_with_minor(\n",
    "    drawable_graph, highlighted_loops={\n",
    "        example_loop_pair[0]: matplotlib.colors.to_hex(link_palette[1]),\n",
    "        example_loop_pair[1]: matplotlib.colors.to_hex(link_palette[2])\n",
    "    },\n",
    "    segments_palette=minor_palette,\n",
    "    visible_segments=list(range(1, 6 + 1)),\n",
    "    node_size=1, arc_linewidth=1.0,\n",
    "    tick_y_coords=(-0.001, -0.002, -0.004),\n",
    "    tick_fontsize=8\n",
    ")\n",
    "# plt.title(f'|V| = {G.number_of_nodes()}, |E| = {G.number_of_edges()}', fontsize=14)\n",
    "plt.tight_layout()\n",
    "# plt.show()\n",
    "plt.savefig(f'./plots/graph_{model_name}_{example_loop_pair[0]}_{example_loop_pair[1]}.svg');"
   ]
  }
 ],
 "metadata": {
  "kernelspec": {
   "display_name": "sci1",
   "language": "python",
   "name": "python3"
  },
  "language_info": {
   "codemirror_mode": {
    "name": "ipython",
    "version": 3
   },
   "file_extension": ".py",
   "mimetype": "text/x-python",
   "name": "python",
   "nbconvert_exporter": "python",
   "pygments_lexer": "ipython3",
   "version": "3.10.14"
  }
 },
 "nbformat": 4,
 "nbformat_minor": 4
}
